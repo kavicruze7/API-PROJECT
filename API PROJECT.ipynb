{
 "cells": [
  {
   "cell_type": "code",
   "execution_count": null,
   "id": "08a482b3",
   "metadata": {},
   "outputs": [],
   "source": []
  },
  {
   "cell_type": "code",
   "execution_count": 2,
   "id": "37ad5128",
   "metadata": {},
   "outputs": [
    {
     "name": "stdout",
     "output_type": "stream",
     "text": [
      "ENTER THE INPUT IN CURRENCY SYMBOL: USD\n",
      "ENTER THE OUTPUT IN CURRENCY SYMBOL: INR\n",
      "ENTER THE AMOUNT YOU WANT TO CONVEY: 1\n",
      "{\"new_amount\": 0.01, \"new_currency\": \"USD\", \"old_currency\": \"INR\", \"old_amount\": 1.0}\n"
     ]
    }
   ],
   "source": [
    "import requests\n",
    "\n",
    "want = input(\"ENTER THE INPUT IN CURRENCY SYMBOL: \")\n",
    "have = input(\"ENTER THE OUTPUT IN CURRENCY SYMBOL: \")\n",
    "amount = int(input(\"ENTER THE AMOUNT YOU WANT TO CONVEY: \"))\n",
    "\n",
    "api_url = 'https://api.api-ninjas.com/v1/convertcurrency?want=USD&have=INR&amount=1'\n",
    "response = requests.get(api_url, headers={'X-Api-Key': 'ZulmXaQQmLYrcsfkp9EbrA==H805XhbtKpNBuABA'})\n",
    "if response.status_code == requests.codes.ok:\n",
    "    print(response.text)\n",
    "else:\n",
    "    print(\"Error:\", response.status_code, response.text)"
   ]
  },
  {
   "cell_type": "code",
   "execution_count": 1,
   "id": "afd63068",
   "metadata": {},
   "outputs": [
    {
     "name": "stdout",
     "output_type": "stream",
     "text": [
      "Enter the City Name: chennai\n",
      "[{\"name\": \"Chennai\", \"latitude\": 13.0825, \"longitude\": 80.275, \"country\": \"IN\", \"population\": 11324000, \"is_capital\": false}]\n"
     ]
    }
   ],
   "source": [
    "import requests\n",
    "\n",
    "name = input(\"Enter the City Name: \")\n",
    "api_url = 'https://api.api-ninjas.com/v1/city?name={}'.format(name)\n",
    "response = requests.get(api_url, headers={'X-Api-Key': 'ZulmXaQQmLYrcsfkp9EbrA==H805XhbtKpNBuABA'})\n",
    "if response.status_code == requests.codes.ok:\n",
    "    print(response.text)\n",
    "else:\n",
    "    print(\"Error:\", response.status_code, response.text)"
   ]
  }
 ],
 "metadata": {
  "kernelspec": {
   "display_name": "Python 3 (ipykernel)",
   "language": "python",
   "name": "python3"
  },
  "language_info": {
   "codemirror_mode": {
    "name": "ipython",
    "version": 3
   },
   "file_extension": ".py",
   "mimetype": "text/x-python",
   "name": "python",
   "nbconvert_exporter": "python",
   "pygments_lexer": "ipython3",
   "version": "3.11.4"
  }
 },
 "nbformat": 4,
 "nbformat_minor": 5
}
